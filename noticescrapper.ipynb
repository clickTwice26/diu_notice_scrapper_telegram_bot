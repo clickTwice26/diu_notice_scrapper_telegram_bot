{
 "cells": [
  {
   "cell_type": "code",
   "execution_count": null,
   "id": "70ac2b68-c6fc-43ba-8a41-7180c8fc9bcb",
   "metadata": {
    "ExecuteTime": {
     "end_time": "2024-03-07T17:49:57.459118Z",
     "start_time": "2024-03-07T17:49:57.370761Z"
    }
   },
   "outputs": [],
   "source": [
    "from bs4 import BeautifulSoup\n",
    "import os\n",
    "import requests\n",
    "from json import dumps"
   ]
  },
  {
   "cell_type": "code",
   "execution_count": 15,
   "id": "2ef6fe2b-42f4-4f6d-ada0-f70f368d5834",
   "metadata": {
    "ExecuteTime": {
     "end_time": "2024-03-07T16:35:49.561551Z",
     "start_time": "2024-03-07T16:35:49.526114Z"
    }
   },
   "outputs": [],
   "source": [
    "if \"noticeboard.html\" not in os.listdir():\n",
    "    html_doc = requests.get(\"https://daffodilvarsity.edu.bd/noticeboard\").text\n",
    "    with open(\"noticeboard.html\", \"w\") as datawriter:\n",
    "        datawriter.write(html_doc)\n",
    "        datawriter.close()\n",
    "else:\n",
    "    html_doc = open(\"noticeboard.html\", \"r\").read()\n",
    "soup = BeautifulSoup(html_doc, 'html.parser')\n"
   ]
  },
  {
   "cell_type": "raw",
   "id": "9b786247-62af-4642-b31b-951aa9d7e33d",
   "metadata": {
    "ExecuteTime": {
     "end_time": "2024-03-07T16:35:50.252116Z",
     "start_time": "2024-03-07T16:35:50.239248Z"
    }
   },
   "source": [
    "# print(soup.prettify())\n",
    "# print(soup.find_all('a'))\n",
    "mydivs = soup.find_all(\"div\", {\"class\": \"row full-notice mb-2\"})\n",
    "departmental_notices = {}\n",
    "# print(mydivs)\n",
    "counter = 1\n",
    "for i in mydivs:\n",
    "    # print(i)\n",
    "    # print(\"\\n\")\n",
    "    department_name = i.find(\"div\", {\"class\": \"depart-short\"}).get_text().strip()\n",
    "    if department_name == \"cse\":\n",
    "        # print(department_name)\n",
    "        # print(i)\n",
    "        notice_link = i.find(\"div\", {\"class\": \"notice-btn\"}).a.get(\"href\")\n",
    "        notice_date = i.find(\"div\", {\"class\": \"col-md-3\"}).get_text()\n",
    "        notice_title = i.find(\"div\", {\"class\": \"notice-btn\"}).strong.get_text()\n",
    "\n",
    "        departmental_notices[f'notices_{counter}'] = {\n",
    "            \"dept_name\": department_name,\n",
    "            \"notice_link\": notice_link,\n",
    "            \"notice_title\": notice_title,\n",
    "            \"notice_date\": notice_date\n",
    "        }\n",
    "        counter+=1\n",
    "        # break\n",
    "\n",
    "print(dumps(departmental_notices, indent=4))"
   ]
  },
  {
   "cell_type": "code",
   "execution_count": null,
   "id": "0b33b549-2efc-485d-adcd-b63cd2b75a75",
   "metadata": {
    "ExecuteTime": {
     "end_time": "2024-03-07T16:33:20.627562Z",
     "start_time": "2024-03-07T16:33:20.625650Z"
    }
   },
   "outputs": [],
   "source": [
    " "
   ]
  },
  {
   "cell_type": "code",
   "execution_count": null,
   "id": "2a740aad1ede4440",
   "metadata": {
    "collapsed": false,
    "jupyter": {
     "outputs_hidden": false
    }
   },
   "outputs": [],
   "source": []
  }
 ],
 "metadata": {
  "kernelspec": {
   "display_name": "Python 3 (ipykernel)",
   "language": "python",
   "name": "python3"
  },
  "language_info": {
   "codemirror_mode": {
    "name": "ipython",
    "version": 3
   },
   "file_extension": ".py",
   "mimetype": "text/x-python",
   "name": "python",
   "nbconvert_exporter": "python",
   "pygments_lexer": "ipython3",
   "version": "3.10.12"
  },
  "widgets": {
   "application/vnd.jupyter.widget-state+json": {
    "state": {},
    "version_major": 2,
    "version_minor": 0
   }
  }
 },
 "nbformat": 4,
 "nbformat_minor": 5
}
