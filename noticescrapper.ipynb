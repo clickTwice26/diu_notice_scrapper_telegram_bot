{
 "cells": [
  {
   "cell_type": "code",
   "execution_count": 2,
   "id": "b5d70317-dc40-48a0-adb6-25826981a23d",
   "metadata": {
    "ExecuteTime": {
     "end_time": "2024-03-07T16:35:49.349656Z",
     "start_time": "2024-03-07T16:35:49.347481Z"
    }
   },
   "outputs": [],
   "source": [
    "from bs4 import BeautifulSoup\n",
    "import os\n",
    "import requests"
   ]
  },
  {
   "cell_type": "code",
   "execution_count": 3,
   "id": "2ef6fe2b-42f4-4f6d-ada0-f70f368d5834",
   "metadata": {
    "ExecuteTime": {
     "end_time": "2024-03-07T16:35:49.561551Z",
     "start_time": "2024-03-07T16:35:49.526114Z"
    }
   },
   "outputs": [],
   "source": [
    "if \"noticeboard.html\" not in os.listdir():\n",
    "    html_doc = requests.get(\"https://daffodilvarsity.edu.bd/noticeboard\").text\n",
    "    with open(\"noticeboard.html\", \"w\") as datawriter:\n",
    "        datawriter.write(html_doc)\n",
    "        datawriter.close()\n",
    "else:\n",
    "    html_doc = open(\"noticeboard.html\", \"r\").read()\n",
    "soup = BeautifulSoup(html_doc, 'html.parser')\n"
   ]
  },
  {
   "cell_type": "code",
   "execution_count": 21,
   "id": "7346135b-ba7f-40b7-9812-21204cc4c58a",
   "metadata": {
    "ExecuteTime": {
     "end_time": "2024-03-07T16:35:50.252116Z",
     "start_time": "2024-03-07T16:35:50.239248Z"
    }
   },
   "outputs": [
    {
     "name": "stdout",
     "output_type": "stream",
     "text": [
      "Computer Science and Engineering\n",
      "https://daffodilvarsity.edu.bd/noticed/2510\n",
      "Notice to the Graduating Students of 11th Convocation of Daffodil International University\n",
      "Computer Science and Engineering\n",
      "https://daffodilvarsity.edu.bd/noticed/2508\n",
      "Notice to Students on scheduled classes of 10 March 2024 on the occasion of 11th Convocation of DIU\n",
      "Computer Science and Engineering\n",
      "https://daffodilvarsity.edu.bd/noticed/2504\n",
      "Decision regarding Mid-term examinations of the semester Spring-2024\n",
      "Computer Science and Engineering\n",
      "https://daffodilvarsity.edu.bd/noticed/2493\n",
      "Spring 2024 class routine version 3.2 (Day)\n",
      "Computer Science and Engineering\n",
      "https://daffodilvarsity.edu.bd/noticed/2483\n",
      "Spring 2024 class routine version 3.1 (Day)\n"
     ]
    }
   ],
   "source": [
    "# print(soup.prettify())\n",
    "# print(soup.find_all('a'))\n",
    "mydivs = soup.find_all(\"div\", {\"class\": \"row full-notice mb-2\"})\n",
    "# print(mydivs)\n",
    "for i in mydivs:\n",
    "    # print(i)\n",
    "    # print(\"\\n\")\n",
    "    department_name = i.find(\"div\", {\"class\": \"col-md-5\"}).get_text().strip()\n",
    "    if department_name == \"Computer Science and Engineering\":\n",
    "        print(department_name)\n",
    "        # print(i)\n",
    "        notice_link = i.find(\"div\", {\"class\": \"notice-btn\"}).a.get(\"href\")\n",
    "        notice_title = i.find(\"div\", {\"class\": \"notice-btn\"}).strong.get_text()\n",
    "        print(notice_link)\n",
    "        print(notice_title)\n",
    "        # break\n",
    "    # break"
   ]
  },
  {
   "cell_type": "code",
   "execution_count": 3,
   "id": "0b33b549-2efc-485d-adcd-b63cd2b75a75",
   "metadata": {
    "ExecuteTime": {
     "end_time": "2024-03-07T16:33:20.627562Z",
     "start_time": "2024-03-07T16:33:20.625650Z"
    }
   },
   "outputs": [],
   "source": [
    " "
   ]
  },
  {
   "cell_type": "code",
   "execution_count": null,
   "id": "2a740aad1ede4440",
   "metadata": {
    "collapsed": false,
    "jupyter": {
     "outputs_hidden": false
    }
   },
   "outputs": [],
   "source": []
  }
 ],
 "metadata": {
  "kernelspec": {
   "display_name": "Python 3 (ipykernel)",
   "language": "python",
   "name": "python3"
  },
  "language_info": {
   "codemirror_mode": {
    "name": "ipython",
    "version": 3
   },
   "file_extension": ".py",
   "mimetype": "text/x-python",
   "name": "python",
   "nbconvert_exporter": "python",
   "pygments_lexer": "ipython3",
   "version": "3.10.12"
  },
  "widgets": {
   "application/vnd.jupyter.widget-state+json": {
    "state": {},
    "version_major": 2,
    "version_minor": 0
   }
  }
 },
 "nbformat": 4,
 "nbformat_minor": 5
}
