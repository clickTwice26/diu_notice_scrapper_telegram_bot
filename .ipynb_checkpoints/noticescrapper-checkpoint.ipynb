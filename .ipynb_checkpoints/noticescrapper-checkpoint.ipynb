{
 "cells": [
  {
   "cell_type": "code",
   "execution_count": 2,
   "id": "b5d70317-dc40-48a0-adb6-25826981a23d",
   "metadata": {
    "ExecuteTime": {
     "end_time": "2024-03-07T17:49:57.459118Z",
     "start_time": "2024-03-07T17:49:57.370761Z"
    }
   },
   "outputs": [],
   "source": [
    "from bs4 import BeautifulSoup\n",
    "import os\n",
    "import requests"
   ]
  },
  {
   "cell_type": "code",
   "execution_count": 3,
   "id": "2ef6fe2b-42f4-4f6d-ada0-f70f368d5834",
   "metadata": {
    "ExecuteTime": {
     "end_time": "2024-03-07T16:35:49.561551Z",
     "start_time": "2024-03-07T16:35:49.526114Z"
    }
   },
   "outputs": [],
   "source": [
    "if \"noticeboard.html\" not in os.listdir():\n",
    "    html_doc = requests.get(\"https://daffodilvarsity.edu.bd/noticeboard\").text\n",
    "    with open(\"noticeboard.html\", \"w\") as datawriter:\n",
    "        datawriter.write(html_doc)\n",
    "        datawriter.close()\n",
    "else:\n",
    "    html_doc = open(\"noticeboard.html\", \"r\").read()\n",
    "soup = BeautifulSoup(html_doc, 'html.parser')\n"
   ]
  },
  {
   "cell_type": "code",
   "execution_count": 4,
   "id": "7346135b-ba7f-40b7-9812-21204cc4c58a",
   "metadata": {
    "ExecuteTime": {
     "end_time": "2024-03-07T16:35:50.252116Z",
     "start_time": "2024-03-07T16:35:50.239248Z"
    }
   },
   "outputs": [
    {
     "name": "stdout",
     "output_type": "stream",
     "text": [
      "Computer Science and Engineering\n",
      "<div class=\"row full-notice mb-2\">\n",
      "<div class=\"col-md-2 pe-5 d-flex justify-content-center\">\n",
      "<div class=\"noticeImage\">\n",
      "<img src=\"https://daffodilvarsity.edu.bd/images/department/08bf86ac06ccf2b2b04869c76963ea9f.jpg\"/>\n",
      "</div>\n",
      "<div class=\"depart-short\">cse</div>\n",
      "</div>\n",
      "<div class=\"col-md-10\">\n",
      "<div class=\"notice-btn\"><i class=\"fas fa-hand-point-right\"></i>\n",
      "<a href=\"https://daffodilvarsity.edu.bd/noticed/2510\"><strong>Notice to the Graduating Students of 11th Convocation of Daffodil International University</strong></a>\n",
      "</div>\n",
      "<div class=\"row\">\n",
      "<div class=\"col-md-5\" style=\"font-size: 14px;\"><i class=\"fas fa-dungeon\"></i>\n",
      "                                                                    Computer Science and Engineering                                                            </div>\n",
      "<div class=\"col-md-2\" style=\"font-size: 14px;\">\n",
      "<i class=\"fas fa-building\"></i>\n",
      "                                                                Academic\n",
      "                            </div>\n",
      "<div class=\"col-md-3\" style=\"font-size: 14px;\"><i class=\"fas fa-calendar-alt\"></i> 05th March 2024</div>\n",
      "<div class=\"col-md-2\" style=\"font-size: 14px;\"><i class=\"fas fa-eye\"></i> 1085</div>\n",
      "</div>\n",
      "</div>\n",
      "</div>\n",
      "https://daffodilvarsity.edu.bd/noticed/2510\n",
      "Notice to the Graduating Students of 11th Convocation of Daffodil International University\n"
     ]
    }
   ],
   "source": [
    "# print(soup.prettify())\n",
    "# print(soup.find_all('a'))\n",
    "mydivs = soup.find_all(\"div\", {\"class\": \"row full-notice mb-2\"})\n",
    "# print(mydivs)\n",
    "for i in mydivs:\n",
    "    # print(i)\n",
    "    # print(\"\\n\")\n",
    "    department_name = i.find(\"div\", {\"class\": \"col-md-5\"}).get_text().strip()\n",
    "    if department_name == \"Computer Science and Engineering\":\n",
    "        print(department_name)\n",
    "        print(i)\n",
    "        notice_link = i.find(\"div\", {\"class\": \"notice-btn\"}).a.get(\"href\")\n",
    "        notice_date = i.find(\"div\", {\"class\": \"col-md-3\"}).get_text()\n",
    "        notice_title = i.find(\"div\", {\"class\": \"notice-btn\"}).strong.get_text()\n",
    "        print(notice_link)\n",
    "        print(notice_title)\n",
    "        print(notice_date)\n",
    "        break\n",
    "    # break"
   ]
  },
  {
   "cell_type": "code",
   "execution_count": null,
   "id": "0b33b549-2efc-485d-adcd-b63cd2b75a75",
   "metadata": {
    "ExecuteTime": {
     "end_time": "2024-03-07T16:33:20.627562Z",
     "start_time": "2024-03-07T16:33:20.625650Z"
    }
   },
   "outputs": [],
   "source": [
    " "
   ]
  },
  {
   "cell_type": "code",
   "execution_count": null,
   "id": "2a740aad1ede4440",
   "metadata": {
    "collapsed": false,
    "jupyter": {
     "outputs_hidden": false
    }
   },
   "outputs": [],
   "source": []
  }
 ],
 "metadata": {
  "kernelspec": {
   "display_name": "Python 3 (ipykernel)",
   "language": "python",
   "name": "python3"
  },
  "language_info": {
   "codemirror_mode": {
    "name": "ipython",
    "version": 3
   },
   "file_extension": ".py",
   "mimetype": "text/x-python",
   "name": "python",
   "nbconvert_exporter": "python",
   "pygments_lexer": "ipython3",
   "version": "3.10.12"
  },
  "widgets": {
   "application/vnd.jupyter.widget-state+json": {
    "state": {},
    "version_major": 2,
    "version_minor": 0
   }
  }
 },
 "nbformat": 4,
 "nbformat_minor": 5
}
